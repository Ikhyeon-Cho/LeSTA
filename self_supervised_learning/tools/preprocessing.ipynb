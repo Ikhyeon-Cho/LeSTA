{
 "cells": [
  {
   "cell_type": "code",
   "execution_count": 2,
   "metadata": {},
   "outputs": [],
   "source": [
    "import pandas as pd"
   ]
  },
  {
   "cell_type": "code",
   "execution_count": 3,
   "metadata": {},
   "outputs": [],
   "source": [
    "labeled_data = pd.read_csv(\"/home/ikhyeon/labeled_data.csv\")\n",
    "labeled_data.head()\n"
   ]
  },
  {
   "cell_type": "code",
   "execution_count": 4,
   "metadata": {},
   "outputs": [
    {
     "data": {
      "text/html": [
       "<div>\n",
       "<style scoped>\n",
       "    .dataframe tbody tr th:only-of-type {\n",
       "        vertical-align: middle;\n",
       "    }\n",
       "\n",
       "    .dataframe tbody tr th {\n",
       "        vertical-align: top;\n",
       "    }\n",
       "\n",
       "    .dataframe thead th {\n",
       "        text-align: right;\n",
       "    }\n",
       "</style>\n",
       "<table border=\"1\" class=\"dataframe\">\n",
       "  <thead>\n",
       "    <tr style=\"text-align: right;\">\n",
       "      <th></th>\n",
       "      <th>step</th>\n",
       "      <th>slope</th>\n",
       "      <th>roughness</th>\n",
       "      <th>curvature</th>\n",
       "      <th>variance</th>\n",
       "      <th>traversability_label</th>\n",
       "    </tr>\n",
       "  </thead>\n",
       "  <tbody>\n",
       "    <tr>\n",
       "      <th>0</th>\n",
       "      <td>0.139539</td>\n",
       "      <td>48.4547</td>\n",
       "      <td>0.029901</td>\n",
       "      <td>0.160287</td>\n",
       "      <td>0.006158</td>\n",
       "      <td>0</td>\n",
       "    </tr>\n",
       "    <tr>\n",
       "      <th>1</th>\n",
       "      <td>0.143072</td>\n",
       "      <td>43.0585</td>\n",
       "      <td>0.035114</td>\n",
       "      <td>0.220032</td>\n",
       "      <td>0.002697</td>\n",
       "      <td>0</td>\n",
       "    </tr>\n",
       "    <tr>\n",
       "      <th>2</th>\n",
       "      <td>0.139306</td>\n",
       "      <td>52.6768</td>\n",
       "      <td>0.001715</td>\n",
       "      <td>0.000290</td>\n",
       "      <td>0.000207</td>\n",
       "      <td>0</td>\n",
       "    </tr>\n",
       "    <tr>\n",
       "      <th>3</th>\n",
       "      <td>0.115824</td>\n",
       "      <td>12.5806</td>\n",
       "      <td>0.030627</td>\n",
       "      <td>0.191434</td>\n",
       "      <td>0.000000</td>\n",
       "      <td>0</td>\n",
       "    </tr>\n",
       "    <tr>\n",
       "      <th>4</th>\n",
       "      <td>0.115824</td>\n",
       "      <td>26.0825</td>\n",
       "      <td>0.024970</td>\n",
       "      <td>0.125987</td>\n",
       "      <td>0.000212</td>\n",
       "      <td>0</td>\n",
       "    </tr>\n",
       "  </tbody>\n",
       "</table>\n",
       "</div>"
      ],
      "text/plain": [
       "       step    slope  roughness  curvature  variance  traversability_label\n",
       "0  0.139539  48.4547   0.029901   0.160287  0.006158                     0\n",
       "1  0.143072  43.0585   0.035114   0.220032  0.002697                     0\n",
       "2  0.139306  52.6768   0.001715   0.000290  0.000207                     0\n",
       "3  0.115824  12.5806   0.030627   0.191434  0.000000                     0\n",
       "4  0.115824  26.0825   0.024970   0.125987  0.000212                     0"
      ]
     },
     "execution_count": 4,
     "metadata": {},
     "output_type": "execute_result"
    }
   ],
   "source": []
  },
  {
   "cell_type": "code",
   "execution_count": null,
   "metadata": {},
   "outputs": [],
   "source": []
  }
 ],
 "metadata": {
  "kernelspec": {
   "display_name": "pandas",
   "language": "python",
   "name": "python3"
  },
  "language_info": {
   "codemirror_mode": {
    "name": "ipython",
    "version": 3
   },
   "file_extension": ".py",
   "mimetype": "text/x-python",
   "name": "python",
   "nbconvert_exporter": "python",
   "pygments_lexer": "ipython3",
   "version": "3.12.4"
  }
 },
 "nbformat": 4,
 "nbformat_minor": 2
}
